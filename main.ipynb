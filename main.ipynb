{
 "cells": [
  {
   "cell_type": "code",
   "execution_count": 1,
   "metadata": {
    "colab": {
     "base_uri": "https://localhost:8080/",
     "height": 384
    },
    "executionInfo": {
     "elapsed": 417,
     "status": "error",
     "timestamp": 1716411381388,
     "user": {
      "displayName": "gabrielle mitie",
      "userId": "11235328133349846852"
     },
     "user_tz": 180
    },
    "id": "jXehfeenFNvk",
    "outputId": "7f8224e8-47af-4b65-a22d-d57e7185072d"
   },
   "outputs": [
    {
     "name": "stdout",
     "output_type": "stream",
     "text": [
      "curso\n",
      "disciplina\n",
      "histesc\n",
      "histdisc\n",
      "professor_departamento\n",
      "departamento\n",
      "formados\n",
      "matrizcurricular\n",
      "aluno\n",
      "tcc\n",
      "professor\n"
     ]
    }
   ],
   "source": [
    "from faker import Faker\n",
    "import psycopg2\n",
    "import random\n",
    "\n",
    "#acessar o banco\n",
    "dbname = 'projeto2'\n",
    "user = 'postgres'\n",
    "password = 'senha123'\n",
    "host = 'localhost'  # ou seu endereço de host\n",
    "\n",
    "#conectar ao banco\n",
    "conn = psycopg2.connect(dbname=dbname, user=user, password=password, host=host)\n",
    "cur = conn.cursor()\n",
    "\n",
    "# Consulta para listar todas as tabelas\n",
    "list_tables_query = \"\"\"\n",
    "SELECT table_name\n",
    "FROM information_schema.tables\n",
    "WHERE table_schema = 'public';\n",
    "\"\"\"\n",
    "\n",
    "# Execute a consulta SQL\n",
    "cur.execute(list_tables_query)\n",
    "\n",
    "# Recupere os resultados\n",
    "tables = cur.fetchall()\n",
    "\n",
    "# Imprima as tabelas\n",
    "for table in tables:\n",
    "    print(table[0])\n",
    "\n",
    "quantidade_dados = 100\n",
    "fake = Faker()"
   ]
  },
  {
   "cell_type": "code",
   "execution_count": 2,
   "metadata": {
    "id": "H0z7VOtDFNv1"
   },
   "outputs": [],
   "source": [
    "#popular a tabela curso\n",
    "cursos = [\"Engenharia Química\", \"Engenharia Civil\", \"Engenharia de Produção\", \"Engenharia Elétrica\", \"Engenharia de Automação e controle\", \"Engenharia Mecânica\",\"Engenharia de Robôs\", \"Administração\", \"Ciência da Computação\", \"Ciência da Dados\"]\n",
    "for i in range(0, 10):\n",
    "    id_curso = i + 1\n",
    "    nome_curso = cursos[i]\n",
    "\n",
    "    insert_query = \"\"\"\n",
    "    INSERT INTO curso(id_curso, nome_curso) VALUES(%s, %s);\n",
    "    \"\"\"\n",
    "    cur.execute(insert_query, (id_curso, nome_curso))\n",
    "    conn.commit()"
   ]
  },
  {
   "cell_type": "code",
   "execution_count": 3,
   "metadata": {
    "id": "PUOmPwhyFNv4"
   },
   "outputs": [],
   "source": [
    "#populando a tabela tcc\n",
    "ra_list = list(range(1, 101))\n",
    "random.shuffle(ra_list)\n",
    "for i in range(1, 101):  # Comece a partir do ID 1 e vá até 100\n",
    "    id_tcc = i\n",
    "    ra = ra_list.pop()  # Retira um RA da lista aleatória\n",
    "    insert_query = \"\"\"\n",
    "    INSERT INTO tcc(id_tcc, RA) VALUES(%s, %s);\n",
    "    \"\"\"\n",
    "    cur.execute(insert_query, (id_tcc, ra))\n",
    "    conn.commit()"
   ]
  },
  {
   "cell_type": "code",
   "execution_count": 4,
   "metadata": {
    "id": "SehFTEkxFNv6"
   },
   "outputs": [],
   "source": [
    "#populando a tabela aluno\n",
    "\n",
    "\n",
    "for i in range(quantidade_dados):\n",
    "    nome_aluno = fake.name()\n",
    "\n",
    "    # Consulta para obter o tamanho atual da lista\n",
    "    get_count_query = \"\"\"\n",
    "    SELECT COUNT(*) FROM Aluno;\n",
    "    \"\"\"\n",
    "    # Execute a consulta SQL para obter o tamanho atual da lista\n",
    "    cur.execute(get_count_query)\n",
    "    # Recupere o tamanho atual da lista\n",
    "    tamanho_lista = cur.fetchone()[0]\n",
    "\n",
    "    ra = tamanho_lista + 1\n",
    "    ano_matricula = random.randint(1990, 2024)\n",
    "    id_curso = random.randint(1, 10)\n",
    "    codigo_disc = random.randint(1, 20)\n",
    "    id_tcc = random.randint(1, 100)\n",
    "\n",
    "    insert_query = \"\"\"\n",
    "    INSERT INTO Aluno(ra, nome_aluno, ano_matricula, id_curso, codigo_disc, id_tcc) VALUES(%s, %s, %s, %s, %s, %s);\"\"\"\n",
    "    cur.execute(insert_query, (ra, nome_aluno, ano_matricula, id_curso, codigo_disc, id_tcc))\n",
    "    conn.commit()"
   ]
  },
  {
   "cell_type": "code",
   "execution_count": 5,
   "metadata": {
    "id": "Vp6QG8UjFNv9"
   },
   "outputs": [],
   "source": [
    "#populando disciplina\n",
    "cods = list(range(1, 21))\n",
    "random.shuffle(cods)\n",
    "disciplinas = [\n",
    "    \"Matemática\",\n",
    "    \"Física\",\n",
    "    \"Química\",\n",
    "    \"Álgebra Linear\",\n",
    "    \"Cálculo Diferencial e Integral\",\n",
    "    \"Geometria Analítica\",\n",
    "    \"Estatística\",\n",
    "    \"Probabilidade\",\n",
    "    \"Mecânica\",\n",
    "    \"Termodinâmica\",\n",
    "    \"Eletricidade e Magnetismo\",\n",
    "    \"Circuitos Elétricos\",\n",
    "    \"Programação\",\n",
    "    \"Introdução a Computação\",\n",
    "    \"Algoritmos\",\n",
    "    \"Lógica\",\n",
    "    \"Óptica\",\n",
    "    \"Biofísica\",\n",
    "    \"Bioquímica\",\n",
    "    \"Engenharia de Materiais\"\n",
    "]\n",
    "anos_lista = []\n",
    "for i in range(1, 21):\n",
    "    codigo_disc = i\n",
    "    nome_disc = disciplinas[i-1]\n",
    "    ano_disc = random.randint(1990, 2024)\n",
    "\n",
    "    semestre_disc = random.randint(1, 2)\n",
    "    codigo_prof = cods.pop()\n",
    "    id_curso = random.randint(1, 10)\n",
    "\n",
    "    insert_query = \"\"\"\n",
    "        INSERT INTO Disciplina(codigo_disc, nome_disc, ano_disc, semestre_disc, codigo_prof, id_curso) VALUES(%s, %s, %s, %s, %s, %s);\"\"\"\n",
    "\n",
    "    cur.execute(insert_query, (codigo_disc, nome_disc, ano_disc, semestre_disc, codigo_prof, id_curso))\n",
    "    conn.commit()\n"
   ]
  },
  {
   "cell_type": "code",
   "execution_count": 6,
   "metadata": {
    "id": "LmJoUt_IFNwA"
   },
   "outputs": [],
   "source": [
    "#populando historico escolar\n",
    "ra_list2 = list(range(1, 101))\n",
    "random.shuffle(ra_list2)\n",
    "for i in range (quantidade_dados):\n",
    "    nota = round(random.uniform(0, 10), 2)\n",
    "    semestre_cursado = random.randint(1, 2)\n",
    "    ano_cursado = random.randint(1990, 2024)\n",
    "    ra = ra_list2.pop()\n",
    "    codigo_disc = random.randint(1, 20)\n",
    "    insert_query = \"\"\"\n",
    "        INSERT INTO HistEsc(nota, semestre_cursado, ano_cursado, ra, codigo_disc) VALUES(%s, %s, %s, %s, %s);\"\"\"\n",
    "    cur.execute(insert_query, (nota, semestre_cursado, ano_cursado, ra, codigo_disc))\n",
    "    conn.commit()\n",
    "\n"
   ]
  },
  {
   "cell_type": "code",
   "execution_count": 7,
   "metadata": {
    "id": "FuV20HKrFNwC"
   },
   "outputs": [],
   "source": [
    "#populando o historico de disciplina\n",
    "\n",
    "for i in range(0, 20):\n",
    "    ano_ministrado = random.randint(1990, 2024)\n",
    "    semestre_ministrado = random.randint(1, 2)\n",
    "    codigo_prof = random.randint(1, 20)\n",
    "    codigo_disc = i+1\n",
    "    insert_query = \"\"\"\n",
    "        INSERT INTO HistDisc(ano_ministrado, semestre_ministrado, codigo_prof, codigo_disc) VALUES(%s, %s, %s, %s);\"\"\"\n",
    "    cur.execute(insert_query, (ano_ministrado, semestre_ministrado, codigo_prof, codigo_disc))\n",
    "    conn.commit()"
   ]
  },
  {
   "cell_type": "code",
   "execution_count": 8,
   "metadata": {
    "id": "ToUAfLtkFNwF"
   },
   "outputs": [],
   "source": [
    "# populando matriz curricular\n",
    "ids_matriz = list(range(1, 11))\n",
    "random.shuffle(ids_matriz)\n",
    "\n",
    "for i in range(0, 10):\n",
    "    id_matriz = codigo_disc = ids_matriz.pop()\n",
    "    semestre_aprovado = random.randint(1,2)\n",
    "    ano_aprovado = random.randint(1994, 2024)\n",
    "    id_curso = i+1\n",
    "    insert_query = \"\"\"\n",
    "        INSERT INTO matrizcurricular(id_matriz, semestre_aprovado, ano_aprovado, id_curso, codigo_disc) VALUES(%s, %s, %s, %s, %s);\"\"\"\n",
    "    cur.execute(insert_query, (id_matriz, semestre_aprovado, ano_aprovado, id_curso, codigo_disc))\n",
    "    conn.commit()\n"
   ]
  },
  {
   "cell_type": "code",
   "execution_count": 9,
   "metadata": {
    "id": "4MOqFX0TFNwH"
   },
   "outputs": [],
   "source": [
    "#populando formados\n",
    "lista_formados = list(range(1, 101))\n",
    "random.shuffle(lista_formados)\n",
    "\n",
    "for i in range(0, 50):\n",
    "    ra = lista_formados[i]\n",
    "    id_matriz = random.randint(1, 10)\n",
    "    insert_query = \"\"\"\n",
    "        INSERT INTO formados(ra, id_matriz) VALUES(%s, %s);\"\"\"\n",
    "    cur.execute(insert_query, (ra, id_matriz))\n",
    "    conn.commit()\n"
   ]
  },
  {
   "cell_type": "code",
   "execution_count": 10,
   "metadata": {
    "id": "Ev2n78KtFNwJ"
   },
   "outputs": [],
   "source": [
    "#populando departamentos\n",
    "departamentos = ['Ciência da Computação', 'Engenharia', \"Administração\", \"Matemática\"]\n",
    "cursoslista = list(range(1, 10))\n",
    "random.shuffle(cursoslista)\n",
    "for i in range(0, 4):\n",
    "    nome_dep = departamentos[i]\n",
    "    codigo_dep = i+1\n",
    "    nome_prof = fake.name()\n",
    "    codigo_disc = i+1\n",
    "    id_curso = cursoslista.pop()\n",
    "    insert_query = \"\"\"\n",
    "        INSERT INTO departamento(nome_dep, codigo_dep, nome_prof, codigo_disc, id_curso) VALUES(%s, %s, %s, %s, %s);\"\"\"\n",
    "\n",
    "    cur.execute(insert_query, (nome_dep, codigo_dep, nome_prof, codigo_disc, id_curso))\n",
    "    conn.commit()\n"
   ]
  },
  {
   "cell_type": "code",
   "execution_count": 11,
   "metadata": {
    "id": "LmJwYulKFNwK"
   },
   "outputs": [],
   "source": [
    "#populando professor\n",
    "\n",
    "for i in range(0, 20):\n",
    "    codigo_prof = i+1\n",
    "    nome_prof = fake.name()\n",
    "    chefe_dep = random.choice([True, False])\n",
    "    id_curso = random.randint(1, 20)\n",
    "    id_tcc = random.randint(1, 100)\n",
    "\n",
    "    insert_query = \"\"\"\n",
    "        INSERT INTO professor(codigo_prof, nome_prof, chefe_dep, id_curso, id_tcc) VALUES(%s, %s, %s, %s, %s);\"\"\"\n",
    "\n",
    "    cur.execute(insert_query, (codigo_prof, nome_prof, chefe_dep, id_curso, id_tcc))\n",
    "    conn.commit()\n"
   ]
  },
  {
   "cell_type": "code",
   "execution_count": 12,
   "metadata": {
    "id": "sO8bLWjHFNwL"
   },
   "outputs": [],
   "source": [
    "for i in range(0, 20):\n",
    "    codigo_prof = i+1\n",
    "    nome_dep = departamentos[random.randint(0,3)]\n",
    "\n",
    "    insert_query = \"\"\"\n",
    "        INSERT INTO professor_departamento(codigo_prof, nome_dep) VALUES(%s, %s);\"\"\"\n",
    "\n",
    "    cur.execute(insert_query, (codigo_prof, nome_dep))\n",
    "    conn.commit()\n"
   ]
  }
 ],
 "metadata": {
  "colab": {
   "provenance": []
  },
  "kernelspec": {
   "display_name": "mongo-env",
   "language": "python",
   "name": "python3"
  },
  "language_info": {
   "codemirror_mode": {
    "name": "ipython",
    "version": 3
   },
   "file_extension": ".py",
   "mimetype": "text/x-python",
   "name": "python",
   "nbconvert_exporter": "python",
   "pygments_lexer": "ipython3",
   "version": "3.12.7"
  }
 },
 "nbformat": 4,
 "nbformat_minor": 0
}
